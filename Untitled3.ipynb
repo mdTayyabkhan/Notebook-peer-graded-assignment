{
  "metadata": {
    "language_info": {
      "codemirror_mode": {
        "name": "python",
        "version": 3
      },
      "file_extension": ".py",
      "mimetype": "text/x-python",
      "name": "python",
      "nbconvert_exporter": "python",
      "pygments_lexer": "ipython3",
      "version": "3.8"
    },
    "kernelspec": {
      "name": "python",
      "display_name": "Pyolite",
      "language": "python"
    }
  },
  "nbformat_minor": 4,
  "nbformat": 4,
  "cells": [
    {
      "cell_type": "markdown",
      "source": "Exercise 2-\n    Create a markdown cell with the title of the notebook.",
      "metadata": {}
    },
    {
      "cell_type": "markdown",
      "source": "Title of the Notebook: Peer graded assignment",
      "metadata": {}
    },
    {
      "cell_type": "markdown",
      "source": "Exercise 3-\n    Create a markdown cell for an introduction.",
      "metadata": {}
    },
    {
      "cell_type": "markdown",
      "source": "Introduction\n   Peer graded assignment for the topic tools for data science",
      "metadata": {}
    },
    {
      "cell_type": "markdown",
      "source": "Exercise 4-\n    Create a markdown cell to list data science languages.",
      "metadata": {}
    },
    {
      "cell_type": "markdown",
      "source": "Data science languages are\npython,\nR,\nSQL.",
      "metadata": {}
    },
    {
      "cell_type": "markdown",
      "source": "Exercise 5-\n    Create a markdown cell to list data science libraries.",
      "metadata": {}
    },
    {
      "cell_type": "markdown",
      "source": "Data science libraries are \ntensor flow,\nscikit learn,\ntheano,\nNumPy.",
      "metadata": {}
    },
    {
      "cell_type": "markdown",
      "source": "Exercise 6-\n    Create a markdown cell with a table of Data Science tools",
      "metadata": {}
    },
    {
      "cell_type": "markdown",
      "source": "Tools for data science\n | Python|\n |--------|\n | Github |\n |--------|\n | Jupiter notebook|\n |-----------------|",
      "metadata": {}
    },
    {
      "cell_type": "markdown",
      "source": "Exercise 7-\n    Create a markdown cell introducing arithmetic expression examples",
      "metadata": {}
    },
    {
      "cell_type": "markdown",
      "source": "Introducing Arthematic Expression example\na=63\nb=59\na+b=?",
      "metadata": {}
    },
    {
      "cell_type": "markdown",
      "source": "Exercise 8-\n    Create a code cell to multiply and add numbers.",
      "metadata": {}
    },
    {
      "cell_type": "code",
      "source": "a=59\nb=64\n#Multiplication of two numbers#\nprint (\"Multiplication of 56 and 84 is\",56*84)\nprint(\"MULTIPLICATION OF A AND B VALUES IS\",a*b)\n#Addition Of two numbers#\nprint (\"addition of 63 and 57 is\",63+57)\nprint(\"Addition of a and b values is\",a+b)",
      "metadata": {
        "trusted": true
      },
      "execution_count": 22,
      "outputs": [
        {
          "name": "stdout",
          "text": "Multiplication of 56 and 84 is 4704\nMULTIPLICATION OF A AND B VALUES IS 3776\naddition of 63 and 57 is 120\nAddition of a and b values is 123\n",
          "output_type": "stream"
        }
      ]
    },
    {
      "cell_type": "markdown",
      "source": "Exercise 9-\n    Create a code cell to convert minutes to hours.",
      "metadata": {}
    },
    {
      "cell_type": "code",
      "source": "minutes =600\n#hours = ?\nprint(\"hours\" ,minutes/60)",
      "metadata": {
        "trusted": true
      },
      "execution_count": 23,
      "outputs": [
        {
          "name": "stdout",
          "text": "hours 10.0\n",
          "output_type": "stream"
        }
      ]
    },
    {
      "cell_type": "markdown",
      "source": "Exercise 10-\n    Insert a markdown cell to list Objectives.",
      "metadata": {}
    },
    {
      "cell_type": "markdown",
      "source": "Objectives\nCollecting data.\nProcessing data.\nExploring and visualizing data.\nAnalyzing.\n",
      "metadata": {}
    },
    {
      "cell_type": "markdown",
      "source": "Exercise 11 -\n    Create a markdown cell to indicate the Author’s name.",
      "metadata": {}
    },
    {
      "cell_type": "markdown",
      "source": "Author Name\nMohammad Tayyab Khan",
      "metadata": {}
    },
    {
      "cell_type": "code",
      "source": "",
      "metadata": {},
      "execution_count": null,
      "outputs": []
    }
  ]
}